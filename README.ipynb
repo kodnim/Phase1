{
 "cells": [
  {
   "cell_type": "markdown",
   "metadata": {},
   "source": [
    "# Analysis on Entering the Movie Making Business\n",
    "\n",
    "The goal of this repository is to provide business recommendations for Microsoft as they try to enter the movie making business. This analysis examines thousands of movies across multiple genres, production costs, and decades to provide the executives at Microsoft key insights to keep in mind as they enter the entertainment industry.\n",
    "\n",
    "![hollywood](hollywood.jpg)"
   ]
  },
  {
   "cell_type": "markdown",
   "metadata": {},
   "source": [
    "# Business Problem\n",
    "\n",
    "Microsoft wants to enter the entertainment industry, specifically the movie making industry. Since Microsoft does not have any direct experience in this domain, executives are unsure what the expected gross profits, what type of movie to produce, and timeline for production and release are.\n",
    "This analysis was conducted to provide Microsoft insight into the trends, performances, and history of movies released up to 2018."
   ]
  },
  {
   "cell_type": "markdown",
   "metadata": {},
   "source": [
    "# Data\n",
    "\n",
    "This analysis was conducted using data from two main sources:\n",
    "\n",
    "    1. Box Office Mojo\n",
    "    2. IMdB\n",
    "\n",
    "The raw csv files of these datas can be found in the ```zipped_data``` folder.\n",
    "The specific files used included: ```tn.movie_budgets.csv```, ```bom.movie_gross.csv```, ```tmdb.movies.csv```, ```imdb.title.basics.csv```, and ```imdb.title.ratings.csv```.\n",
    "\n",
    "The metrics analyzed dealt primarily with each movie's financials, genres, and time of release.\n",
    "\n",
    "This analysis was performed using Python and the code can be found in ```Phase 1 Project.ipynb```."
   ]
  },
  {
   "cell_type": "markdown",
   "metadata": {},
   "source": [
    "# Results\n",
    "\n",
    "## The most profitable genre on average is 'Family'\n",
    "\n",
    "The analysis for profitability was conducted by examining the average production costs and the domestic and international gross of almost 4000 movies across 20 different genres. Through this analysis it was discovered that the 'Family' genre is the most profitable of average where one can expect a profit of $320,000,000 if profitability is the primary goal for Microsoft entering the entertainment industry. \n",
    "The top ten worldwide profitable genres are represented in the chart below.\n",
    "![profit](profit.png)"
   ]
  },
  {
   "cell_type": "markdown",
   "metadata": {},
   "source": [
    "## The highest rated genre is 'War'\n",
    "\n",
    "The analysis for exceptionalism was conducted by examining the number of votes and the rating of the votes for over 6000 movies across 20 different genres. This analysis found that if accolades in the entertainment industry are the primary goals of Microsoft, then a 'War' genre movie will give the highest chances of garnering recognition.\n",
    "![ratings](ratings.png)"
   ]
  },
  {
   "cell_type": "markdown",
   "metadata": {},
   "source": [
    "## The most optimal month to release a movie is in 'June'\n",
    "\n",
    "The analysis for release date was conducted by examining the release dates of over 1500 movies across the 12 months in the year while cross referencing the average worldwide gross upon release. This analysis found that the most profitable months to release a movie is in the month of 'June', with 'May' and 'July' as comparable options as well. This will help provide the team at Microsoft a structured timeline as they begin the process of planning, producing, and releasing their new film.\n",
    "![time](time.png)"
   ]
  },
  {
   "cell_type": "markdown",
   "metadata": {},
   "source": [
    "# Conclusions\n",
    "\n",
    "This analysis provides three recommendations to the Microsoft executive team:\n",
    "1. If profitability is the goal; a <b>'Family'</b> genre movie should be funded, produced, and released to maximize profits gained. \n",
    "\n",
    "2. If recognition is the goal; a <b>'War'</b> genre movie should be produced as this genre has garnered the highest average recognition and fame on average to date.\n",
    "\n",
    "3. The target release date of the movie produced should be in the month of <b>'June'</b>. June has proven to show the highest number of viewership and ticket sales, and thus should maximize potential profitability and recognition."
   ]
  },
  {
   "cell_type": "markdown",
   "metadata": {},
   "source": [
    "## Next Steps\n",
    "\n",
    "Additional anlyses could yield additional insights to provide more specific recommendations to Microsoft:\n",
    "\n",
    "- Distinguishing between domestic and international profitability. This recommendation could use existing data, but would provide more specific insights on profitability depending on the target audience desired.\n",
    "- Identifying the best genre of movie for both profitability and recognition. This recommendation would require deeper analysis with existing data, but provide a more gradient recommendation that is balances priorities.\n",
    "- Predicting what genres to avoid. This modeling would identify genres that have performed poorly which would shorten the list of viable options available."
   ]
  },
  {
   "cell_type": "code",
   "execution_count": null,
   "metadata": {},
   "outputs": [],
   "source": []
  }
 ],
 "metadata": {
  "kernelspec": {
   "display_name": "Python 3",
   "language": "python",
   "name": "python3"
  },
  "language_info": {
   "codemirror_mode": {
    "name": "ipython",
    "version": 3
   },
   "file_extension": ".py",
   "mimetype": "text/x-python",
   "name": "python",
   "nbconvert_exporter": "python",
   "pygments_lexer": "ipython3",
   "version": "3.8.5"
  }
 },
 "nbformat": 4,
 "nbformat_minor": 4
}
